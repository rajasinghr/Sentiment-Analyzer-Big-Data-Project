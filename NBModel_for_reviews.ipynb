{
 "cells": [
  {
   "cell_type": "markdown",
   "metadata": {},
   "source": [
    "# ***BIG DATA FINAL PROJECT***"
   ]
  },
  {
   "cell_type": "markdown",
   "metadata": {},
   "source": [
    "<h2>Classification of the reviews using the Naive Bayes classifier applying NLP techniques</h2>"
   ]
  },
  {
   "cell_type": "markdown",
   "metadata": {},
   "source": [
    "<h2><b><i>Problem Statement:</i></b></h2>"
   ]
  },
  {
   "cell_type": "markdown",
   "metadata": {},
   "source": [
    "<p>In the internet world today, it is easy to get feedbacks for any product or a service through reviews and ratings rather than relying on the old school method of getting feedbacks by asking the custmers to fill out forms. In this project, we have taken the Kaggle dataset that contains the reviews for around 13,000 products sold through Amazon.</p><p>Our objective is to classify the reviews as either positive or negative(good or bad). This will benefit the sellers in a way that they can study about the market for their products and also Amazon to assess every seller and reform the business association.</p><p>We are going to use the Naive Bayes classifier to identify the type of review after cleaning the data using NLP techniques</p>"
   ]
  },
  {
   "cell_type": "markdown",
   "metadata": {},
   "source": [
    "<h3> Import and create a spark session </h3>"
   ]
  },
  {
   "cell_type": "code",
   "execution_count": 1,
   "metadata": {},
   "outputs": [],
   "source": [
    "from pyspark.sql import SparkSession"
   ]
  },
  {
   "cell_type": "code",
   "execution_count": 2,
   "metadata": {},
   "outputs": [],
   "source": [
    "spark = SparkSession.builder.appName('Project').getOrCreate()"
   ]
  },
  {
   "cell_type": "markdown",
   "metadata": {},
   "source": [
    "<h4>Read the Reviews.txt file as a Spark DataFrame</h4>"
   ]
  },
  {
   "cell_type": "code",
   "execution_count": 3,
   "metadata": {},
   "outputs": [],
   "source": [
    "raw_df=spark.read.load('Dataset/Reviews.txt',format='csv',sep=':')"
   ]
  },
  {
   "cell_type": "markdown",
   "metadata": {},
   "source": [
    "<h4> Each line in the file contains a label, title for the review and the review description. Only the label, which indicates the type of the review, and the review contents are captured in the DataFrame </h4>"
   ]
  },
  {
   "cell_type": "code",
   "execution_count": 4,
   "metadata": {},
   "outputs": [
    {
     "name": "stdout",
     "output_type": "stream",
     "text": [
      "+--------------------+--------------------+\n",
      "|                 _c0|                 _c1|\n",
      "+--------------------+--------------------+\n",
      "| __label__2 Great CD| My lovely Pat ha...|\n",
      "|__label__2 One of...| Despite the fact...|\n",
      "|__label__1 Batter...| I bought this ch...|\n",
      "|__label__2 works ...| Check out Maha E...|\n",
      "|__label__2 Great ...| Reviewed quite a...|\n",
      "|__label__1 DVD Pl...| I also began hav...|\n",
      "|__label__1 Incorr...| I love the style...|\n",
      "|__label__1 DVD me...| I cannot scroll ...|\n",
      "|__label__2 Unique...| Exotic tales of ...|\n",
      "|__label__1 Not an...| Firstly,I enjoye...|\n",
      "|__label__2 Great ...| I currently live...|\n",
      "|     __label__1 Not!| If you want to l...|\n",
      "|__label__1 A comp...| This game requir...|\n",
      "|__label__2 TRULY ...| I have been usin...|\n",
      "|__label__1 didn't...| Was hoping that ...|\n",
      "|__label__1 Don't ...| First of all, th...|\n",
      "|__label__2 Simple...| This is an AWESO...|\n",
      "|__label__2 Review...| For the price of...|\n",
      "|__label__2 SOY UN...| Y ESTE LIBRO EST...|\n",
      "|__label__2 Some o...| This is an excel...|\n",
      "+--------------------+--------------------+\n",
      "only showing top 20 rows\n",
      "\n"
     ]
    }
   ],
   "source": [
    "raw_df.show()"
   ]
  },
  {
   "cell_type": "markdown",
   "metadata": {},
   "source": [
    "<h4> Initial processing involves renaming the columns, converting the label from string to integer, dropping temporary columns that have been created and also  dropping the rows that contain only null</h4>"
   ]
  },
  {
   "cell_type": "code",
   "execution_count": 5,
   "metadata": {},
   "outputs": [],
   "source": [
    "from pyspark.sql.functions import split"
   ]
  },
  {
   "cell_type": "code",
   "execution_count": 6,
   "metadata": {},
   "outputs": [],
   "source": [
    "# Split only the label from the first column which contains both the label and the title for the review\n",
    "\n",
    "df = raw_df.withColumn('raw_label',split(raw_df._c0,' ')[0])"
   ]
  },
  {
   "cell_type": "code",
   "execution_count": 7,
   "metadata": {},
   "outputs": [],
   "source": [
    "# label is in the format __label__1\n",
    "# Splitting only numeric part out from the label \n",
    "\n",
    "df = df.withColumn('label_string',split(df.raw_label,'_')[4])"
   ]
  },
  {
   "cell_type": "code",
   "execution_count": 8,
   "metadata": {},
   "outputs": [],
   "source": [
    "# Convert the label from string to integer\n",
    "\n",
    "df = df.withColumn('label',df.label_string.cast('int')-1)"
   ]
  },
  {
   "cell_type": "code",
   "execution_count": 9,
   "metadata": {},
   "outputs": [],
   "source": [
    "# Drop temporary columns and rename the column c1 to 'review'\n",
    "\n",
    "df = df.drop('_c0','raw_label','label_string').withColumnRenamed('_c1','review')"
   ]
  },
  {
   "cell_type": "code",
   "execution_count": 10,
   "metadata": {},
   "outputs": [],
   "source": [
    "# Drop all the rows which do not contain any review\n",
    "\n",
    "df = df.na.drop()"
   ]
  },
  {
   "cell_type": "code",
   "execution_count": 11,
   "metadata": {},
   "outputs": [
    {
     "name": "stdout",
     "output_type": "stream",
     "text": [
      "+--------------------+-----+\n",
      "|              review|label|\n",
      "+--------------------+-----+\n",
      "| My lovely Pat ha...|    1|\n",
      "| Despite the fact...|    1|\n",
      "| I bought this ch...|    0|\n",
      "| Check out Maha E...|    1|\n",
      "| Reviewed quite a...|    1|\n",
      "| I also began hav...|    0|\n",
      "| I love the style...|    0|\n",
      "| I cannot scroll ...|    0|\n",
      "| Exotic tales of ...|    1|\n",
      "| Firstly,I enjoye...|    0|\n",
      "| I currently live...|    1|\n",
      "| If you want to l...|    0|\n",
      "| This game requir...|    0|\n",
      "| I have been usin...|    1|\n",
      "| Was hoping that ...|    0|\n",
      "| First of all, th...|    0|\n",
      "| This is an AWESO...|    1|\n",
      "| For the price of...|    1|\n",
      "| Y ESTE LIBRO EST...|    1|\n",
      "| This is an excel...|    1|\n",
      "+--------------------+-----+\n",
      "only showing top 20 rows\n",
      "\n"
     ]
    }
   ],
   "source": [
    "df.show()"
   ]
  },
  {
   "cell_type": "markdown",
   "metadata": {},
   "source": [
    "<h4> Create a new column 'length' that might provide an insight into categorizing the type of the review </h4>"
   ]
  },
  {
   "cell_type": "code",
   "execution_count": 12,
   "metadata": {},
   "outputs": [],
   "source": [
    "from pyspark.sql.functions import length"
   ]
  },
  {
   "cell_type": "code",
   "execution_count": 13,
   "metadata": {},
   "outputs": [],
   "source": [
    "# Add a column 'length' that calculates the length of each review\n",
    "\n",
    "df = df.withColumn('length',length(df['review']))"
   ]
  },
  {
   "cell_type": "code",
   "execution_count": 14,
   "metadata": {},
   "outputs": [
    {
     "name": "stdout",
     "output_type": "stream",
     "text": [
      "+--------------------+-----+------+\n",
      "|              review|label|length|\n",
      "+--------------------+-----+------+\n",
      "| My lovely Pat ha...|    1|   524|\n",
      "| Despite the fact...|    1|   743|\n",
      "| I bought this ch...|    0|   302|\n",
      "| Check out Maha E...|    1|   191|\n",
      "| Reviewed quite a...|    1|   383|\n",
      "+--------------------+-----+------+\n",
      "only showing top 5 rows\n",
      "\n"
     ]
    }
   ],
   "source": [
    "df.show(5)"
   ]
  },
  {
   "cell_type": "markdown",
   "metadata": {},
   "source": [
    "<h3> Data Pre-processing </h3>"
   ]
  },
  {
   "cell_type": "code",
   "execution_count": 15,
   "metadata": {},
   "outputs": [],
   "source": [
    "from pyspark.ml.feature import Tokenizer, StopWordsRemover, CountVectorizer, IDF"
   ]
  },
  {
   "cell_type": "markdown",
   "metadata": {},
   "source": [
    "<h4> A Tokenizer will convert each review description into an array of individual words </h4>"
   ]
  },
  {
   "cell_type": "code",
   "execution_count": 16,
   "metadata": {},
   "outputs": [],
   "source": [
    "tokenizer = Tokenizer(inputCol='review',outputCol='tokenized_review')"
   ]
  },
  {
   "cell_type": "code",
   "execution_count": 17,
   "metadata": {},
   "outputs": [],
   "source": [
    "# convert every review into an array of string tokens\n",
    "\n",
    "tokenized_df = tokenizer.transform(df)"
   ]
  },
  {
   "cell_type": "code",
   "execution_count": 18,
   "metadata": {},
   "outputs": [
    {
     "name": "stdout",
     "output_type": "stream",
     "text": [
      "+------------------------------------------------------------------------------------------------------------------------------------------------------------------------------------------------------------------------------------------------------------------------------------------------------------------------------------------------------------------------------------------------------------------------------------------------------------------------------------------------------------------------------------------------------------------------------------------------------------------------------------------------------+\n",
      "|tokenized_review                                                                                                                                                                                                                                                                                                                                                                                                                                                                                                                                                                                                                                      |\n",
      "+------------------------------------------------------------------------------------------------------------------------------------------------------------------------------------------------------------------------------------------------------------------------------------------------------------------------------------------------------------------------------------------------------------------------------------------------------------------------------------------------------------------------------------------------------------------------------------------------------------------------------------------------------+\n",
      "|[, my, lovely, pat, has, one, of, the, great, voices, of, her, generation., i, have, listened, to, this, cd, for, years, and, i, still, love, it., when, i'm, in, a, good, mood, it, makes, me, feel, better., a, bad, mood, just, evaporates, like, sugar, in, the, rain., this, cd, just, oozes, life., vocals, are, jusat, stuunning, and, lyrics, just, kill., one, of, life's, hidden, gems., this, is, a, desert, isle, cd, in, my, book., why, she, never, made, it, big, is, just, beyond, me., everytime, i, play, this,, no, matter, black,, white,, young,, old,, male,, female, everybody, says, one, thing, \"who, was, that, singing, ?\"]|\n",
      "+------------------------------------------------------------------------------------------------------------------------------------------------------------------------------------------------------------------------------------------------------------------------------------------------------------------------------------------------------------------------------------------------------------------------------------------------------------------------------------------------------------------------------------------------------------------------------------------------------------------------------------------------------+\n",
      "only showing top 1 row\n",
      "\n"
     ]
    }
   ],
   "source": [
    "tokenized_df.select('tokenized_review').show(1,truncate=False)"
   ]
  },
  {
   "cell_type": "markdown",
   "metadata": {},
   "source": [
    "<h4> The StopWordsRemover gets rid of all the stop words like 'the', 'is', 'at', 'which', and 'on' </h4>"
   ]
  },
  {
   "cell_type": "code",
   "execution_count": 19,
   "metadata": {},
   "outputs": [],
   "source": [
    "stop_remove = StopWordsRemover(inputCol='tokenized_review',outputCol='stop_tokens')"
   ]
  },
  {
   "cell_type": "code",
   "execution_count": 20,
   "metadata": {},
   "outputs": [],
   "source": [
    "# Remove the stop words from the tokens and store them as a new array\n",
    "\n",
    "stop_words_removed_df = stop_remove.transform(tokenized_df)"
   ]
  },
  {
   "cell_type": "code",
   "execution_count": 21,
   "metadata": {},
   "outputs": [
    {
     "name": "stdout",
     "output_type": "stream",
     "text": [
      "+------------------------------------------------------------------------------------------------------------------------------------------------------------------------------------------------------------------------------------------------------------------------------------------------------------------------------------------------------------------------------------------------------------------------------------------------+\n",
      "|stop_tokens                                                                                                                                                                                                                                                                                                                                                                                                                                     |\n",
      "+------------------------------------------------------------------------------------------------------------------------------------------------------------------------------------------------------------------------------------------------------------------------------------------------------------------------------------------------------------------------------------------------------------------------------------------------+\n",
      "|[, lovely, pat, one, great, voices, generation., listened, cd, years, still, love, it., good, mood, makes, feel, better., bad, mood, evaporates, like, sugar, rain., cd, oozes, life., vocals, jusat, stuunning, lyrics, kill., one, life's, hidden, gems., desert, isle, cd, book., never, made, big, beyond, me., everytime, play, this,, matter, black,, white,, young,, old,, male,, female, everybody, says, one, thing, \"who, singing, ?\"]|\n",
      "+------------------------------------------------------------------------------------------------------------------------------------------------------------------------------------------------------------------------------------------------------------------------------------------------------------------------------------------------------------------------------------------------------------------------------------------------+\n",
      "only showing top 1 row\n",
      "\n"
     ]
    }
   ],
   "source": [
    "stop_words_removed_df.select('stop_tokens').show(1,truncate=False)"
   ]
  },
  {
   "cell_type": "code",
   "execution_count": 22,
   "metadata": {},
   "outputs": [
    {
     "name": "stdout",
     "output_type": "stream",
     "text": [
      "root\n",
      " |-- review: string (nullable = true)\n",
      " |-- label: integer (nullable = true)\n",
      " |-- length: integer (nullable = true)\n",
      " |-- tokenized_review: array (nullable = true)\n",
      " |    |-- element: string (containsNull = true)\n",
      " |-- stop_tokens: array (nullable = true)\n",
      " |    |-- element: string (containsNull = true)\n",
      "\n"
     ]
    }
   ],
   "source": [
    "stop_words_removed_df.printSchema()"
   ]
  },
  {
   "cell_type": "markdown",
   "metadata": {},
   "source": [
    "<h4>Data is checked for stop words in the above step. However, it won't completely eliminate the presence of punctuation marks in the data. In the following block of codes, we will remove all the punctutation marks and make the data a lot cleaner.</h4>"
   ]
  },
  {
   "cell_type": "code",
   "execution_count": 23,
   "metadata": {},
   "outputs": [],
   "source": [
    "# Select only the 'stop_tokens' column as a dataframe\n",
    "\n",
    "stopped_words_df = stop_words_removed_df.select('stop_tokens')"
   ]
  },
  {
   "cell_type": "code",
   "execution_count": 24,
   "metadata": {},
   "outputs": [],
   "source": [
    "import pandas as pd"
   ]
  },
  {
   "cell_type": "code",
   "execution_count": 25,
   "metadata": {},
   "outputs": [],
   "source": [
    "# Convert from Spark dataframe to Pandas dataframe\n",
    "\n",
    "stopped_words_pd = stopped_words_df.toPandas()"
   ]
  },
  {
   "cell_type": "code",
   "execution_count": 26,
   "metadata": {},
   "outputs": [],
   "source": [
    "# Create a list from the dataframe, which makes the cleaning process feasible\n",
    "\n",
    "stopped_words_list = stopped_words_pd['stop_tokens'].tolist()"
   ]
  },
  {
   "cell_type": "code",
   "execution_count": 27,
   "metadata": {},
   "outputs": [],
   "source": [
    "# The following function removes all the punctuation marks that are present in the tokens\n",
    "\n",
    "def clean_word(word):\n",
    "    symbols='!\"#$%&)(*+,-./:;<=>?@[\\\\]^_`{|}~'\n",
    "    for symbol in symbols:\n",
    "        word = word.replace(symbol, '')\n",
    "    word = word.replace(\"'\",'')\n",
    "    return word"
   ]
  },
  {
   "cell_type": "code",
   "execution_count": 28,
   "metadata": {},
   "outputs": [],
   "source": [
    "# Restore the list with tokens that are punctuation free\n",
    "\n",
    "for index,item in enumerate(stopped_words_list):\n",
    "    updated_item = []\n",
    "    for word in item:\n",
    "        word = clean_word(word)\n",
    "        if word != '':\n",
    "            updated_item.append(word)\n",
    "    stopped_words_list[index] = updated_item\n"
   ]
  },
  {
   "cell_type": "code",
   "execution_count": 29,
   "metadata": {},
   "outputs": [],
   "source": [
    "# Convert the list back to a pandas dataframe\n",
    "\n",
    "cleaned_data_pd = pd.DataFrame({'clean_tokens':stopped_words_list})"
   ]
  },
  {
   "cell_type": "code",
   "execution_count": 30,
   "metadata": {},
   "outputs": [],
   "source": [
    "# Create a spark dataframe which essentially contains the tokens without the punctuation marks\n",
    "\n",
    "cleaned_data_df = spark.createDataFrame(cleaned_data_pd)"
   ]
  },
  {
   "cell_type": "code",
   "execution_count": 31,
   "metadata": {},
   "outputs": [
    {
     "name": "stdout",
     "output_type": "stream",
     "text": [
      "+-------------------------------------------------------------------------------------------------------------------------------------------------------------------------------------------------------------------------------------------------------------------------------------------------------------------------------------------------------------------------------------------------------------------------+\n",
      "|clean_tokens                                                                                                                                                                                                                                                                                                                                                                                                             |\n",
      "+-------------------------------------------------------------------------------------------------------------------------------------------------------------------------------------------------------------------------------------------------------------------------------------------------------------------------------------------------------------------------------------------------------------------------+\n",
      "|[lovely, pat, one, great, voices, generation, listened, cd, years, still, love, it, good, mood, makes, feel, better, bad, mood, evaporates, like, sugar, rain, cd, oozes, life, vocals, jusat, stuunning, lyrics, kill, one, lifes, hidden, gems, desert, isle, cd, book, never, made, big, beyond, me, everytime, play, this, matter, black, white, young, old, male, female, everybody, says, one, thing, who, singing]|\n",
      "+-------------------------------------------------------------------------------------------------------------------------------------------------------------------------------------------------------------------------------------------------------------------------------------------------------------------------------------------------------------------------------------------------------------------------+\n",
      "only showing top 1 row\n",
      "\n"
     ]
    }
   ],
   "source": [
    "cleaned_data_df.show(1,truncate=False)"
   ]
  },
  {
   "cell_type": "markdown",
   "metadata": {},
   "source": [
    "<h4> Merge the cleaned data back with the original dataframe</h4>"
   ]
  },
  {
   "cell_type": "code",
   "execution_count": 32,
   "metadata": {},
   "outputs": [],
   "source": [
    "from pyspark.sql.functions import monotonically_increasing_id"
   ]
  },
  {
   "cell_type": "code",
   "execution_count": 33,
   "metadata": {},
   "outputs": [],
   "source": [
    "# Add an ID column to both the dataframes. Use 'monotonically_increasing_id' that adds a sequence of numbers to the ID column\n",
    "\n",
    "stop_words_removed_df_mid = stop_words_removed_df.withColumn(\"id\", monotonically_increasing_id())\n",
    "cleaned_data_df_mid = cleaned_data_df.withColumn(\"id\", monotonically_increasing_id())"
   ]
  },
  {
   "cell_type": "code",
   "execution_count": 34,
   "metadata": {},
   "outputs": [],
   "source": [
    "# Perform join based on the ID column and drop the rows that contain an empty array of tokens\n",
    "\n",
    "cleaned_tokens_df = stop_words_removed_df_mid.join(cleaned_data_df_mid, \"id\", \"outer\").drop(\"id\")\n",
    "cleaned_tokens_df = cleaned_tokens_df.na.drop()"
   ]
  },
  {
   "cell_type": "code",
   "execution_count": 35,
   "metadata": {},
   "outputs": [
    {
     "name": "stdout",
     "output_type": "stream",
     "text": [
      "+-----------------------------------------------------------------------------------------------------------------------------------------------------------------------------------------------------------------------------------------------------------------------------------------------------------------------------------------------------------------------------------------------------------------------------+-----+------+--------------------------------------------------------------------------------------------------------------------------------------------------------------------------------------------------------------------------------------------------------------------------------------------------------------------------------------------------------------------------------------------------------------------------------------------------------------------------------------------------------------+-----------------------------------------------------------------------------------------------------------------------------------------------------------------------------------------------------------------------------------------------------------------------------------------------------------------------------------------------+------------------------------------------------------------------------------------------------------------------------------------------------------------------------------------------------------------------------------------------------------------------------------------------------------------------------------------+\n",
      "|review                                                                                                                                                                                                                                                                                                                                                                                                                       |label|length|tokenized_review                                                                                                                                                                                                                                                                                                                                                                                                                                                                                              |stop_tokens                                                                                                                                                                                                                                                                                                                                    |clean_tokens                                                                                                                                                                                                                                                                                                                        |\n",
      "+-----------------------------------------------------------------------------------------------------------------------------------------------------------------------------------------------------------------------------------------------------------------------------------------------------------------------------------------------------------------------------------------------------------------------------+-----+------+--------------------------------------------------------------------------------------------------------------------------------------------------------------------------------------------------------------------------------------------------------------------------------------------------------------------------------------------------------------------------------------------------------------------------------------------------------------------------------------------------------------+-----------------------------------------------------------------------------------------------------------------------------------------------------------------------------------------------------------------------------------------------------------------------------------------------------------------------------------------------+------------------------------------------------------------------------------------------------------------------------------------------------------------------------------------------------------------------------------------------------------------------------------------------------------------------------------------+\n",
      "| i bought this item to connect to a strobe light. unit functions well. not sure that it has all the range claimed, but i never really believe everything a manufacturer claims about a product like this. just too many variables. I can say it works from my neighbors house into my garage; at least 40' going thru two buildings. now if i make too much noise later at night he can simply press a button to let me know.|1    |413   |[, i, bought, this, item, to, connect, to, a, strobe, light., unit, functions, well., not, sure, that, it, has, all, the, range, claimed,, but, i, never, really, believe, everything, a, manufacturer, claims, about, a, product, like, this., just, too, many, variables., i, can, say, it, works, from, my, neighbors, house, into, my, garage;, at, least, 40', going, thru, two, buildings., now, if, i, make, too, much, noise, later, at, night, he, can, simply, press, a, button, to, let, me, know.]|[, bought, item, connect, strobe, light., unit, functions, well., sure, range, claimed,, never, really, believe, everything, manufacturer, claims, product, like, this., many, variables., say, works, neighbors, house, garage;, least, 40', going, thru, two, buildings., make, much, noise, later, night, simply, press, button, let, know.]|[bought, item, connect, strobe, light, unit, functions, well, sure, range, claimed, never, really, believe, everything, manufacturer, claims, product, like, this, many, variables, say, works, neighbors, house, garage, least, 40, going, thru, two, buildings, make, much, noise, later, night, simply, press, button, let, know]|\n",
      "+-----------------------------------------------------------------------------------------------------------------------------------------------------------------------------------------------------------------------------------------------------------------------------------------------------------------------------------------------------------------------------------------------------------------------------+-----+------+--------------------------------------------------------------------------------------------------------------------------------------------------------------------------------------------------------------------------------------------------------------------------------------------------------------------------------------------------------------------------------------------------------------------------------------------------------------------------------------------------------------+-----------------------------------------------------------------------------------------------------------------------------------------------------------------------------------------------------------------------------------------------------------------------------------------------------------------------------------------------+------------------------------------------------------------------------------------------------------------------------------------------------------------------------------------------------------------------------------------------------------------------------------------------------------------------------------------+\n",
      "only showing top 1 row\n",
      "\n"
     ]
    }
   ],
   "source": [
    "cleaned_tokens_df.show(1,truncate=False)"
   ]
  },
  {
   "cell_type": "markdown",
   "metadata": {},
   "source": [
    "<h4> The Count Vector helps identifying the total number of unique words across the entire dataset, words in a particular row and also the frequency of the occurrences </h4>"
   ]
  },
  {
   "cell_type": "code",
   "execution_count": 36,
   "metadata": {},
   "outputs": [],
   "source": [
    "count_vec = CountVectorizer(inputCol='clean_tokens',outputCol='c_vec')"
   ]
  },
  {
   "cell_type": "code",
   "execution_count": 37,
   "metadata": {},
   "outputs": [],
   "source": [
    "count_vector_fitted = count_vec.fit(cleaned_tokens_df)"
   ]
  },
  {
   "cell_type": "code",
   "execution_count": 38,
   "metadata": {},
   "outputs": [],
   "source": [
    "# Count vector outputs the number of unique words in a token array and also data about the occurrences of each unique word\n",
    "\n",
    "count_vectored_df = count_vector_fitted.transform(cleaned_tokens_df)"
   ]
  },
  {
   "cell_type": "code",
   "execution_count": 39,
   "metadata": {},
   "outputs": [
    {
     "name": "stdout",
     "output_type": "stream",
     "text": [
      "+----------------------------------------------------------------------------------------------------------------------------------------------------------------------------------------------------------------------------------------------------------------------------------------------------------------------------------------------------------------------+\n",
      "|c_vec                                                                                                                                                                                                                                                                                                                                                                 |\n",
      "+----------------------------------------------------------------------------------------------------------------------------------------------------------------------------------------------------------------------------------------------------------------------------------------------------------------------------------------------------------------------+\n",
      "|(27680,[2,10,13,15,21,22,26,28,34,39,44,47,72,120,126,127,139,150,181,187,210,253,276,328,343,377,761,939,1001,1080,1240,1457,1820,1840,1979,2504,2745,3364,4079,4172,6832,15129,18007],[1.0,1.0,1.0,1.0,1.0,1.0,1.0,1.0,1.0,1.0,1.0,1.0,1.0,1.0,1.0,1.0,1.0,1.0,1.0,1.0,1.0,1.0,1.0,1.0,1.0,1.0,1.0,1.0,1.0,1.0,1.0,1.0,1.0,1.0,1.0,1.0,1.0,1.0,1.0,1.0,1.0,1.0,1.0])|\n",
      "+----------------------------------------------------------------------------------------------------------------------------------------------------------------------------------------------------------------------------------------------------------------------------------------------------------------------------------------------------------------------+\n",
      "only showing top 1 row\n",
      "\n"
     ]
    }
   ],
   "source": [
    "count_vectored_df.select('c_vec').show(1,truncate=False)"
   ]
  },
  {
   "cell_type": "markdown",
   "metadata": {},
   "source": [
    "<h4> The IDF provides with the calculation of the Term Frequency - Inverse Document Frequency </h4>"
   ]
  },
  {
   "cell_type": "code",
   "execution_count": 40,
   "metadata": {},
   "outputs": [],
   "source": [
    "idf = IDF(inputCol='c_vec',outputCol='tf_idf')"
   ]
  },
  {
   "cell_type": "code",
   "execution_count": 41,
   "metadata": {},
   "outputs": [],
   "source": [
    "idf_fitted = idf.fit(count_vectored_df)"
   ]
  },
  {
   "cell_type": "code",
   "execution_count": 42,
   "metadata": {},
   "outputs": [],
   "source": [
    "# The tf_idf column generated here contains the value for term frequency - inverse document frequency\n",
    "\n",
    "idf_data = idf_fitted.transform(count_vectored_df)"
   ]
  },
  {
   "cell_type": "code",
   "execution_count": 43,
   "metadata": {},
   "outputs": [
    {
     "name": "stdout",
     "output_type": "stream",
     "text": [
      "+------------------------------------------------------------------------------------------------------------------------------------------------------------------------------------------------------------------------------------------------------------------------------------------------------------------------------------------------------------------------------------------------------------------------------------------------------------------------------------------------------------------------------------------------------------------------------------------------------------------------------------------------------------------------------------------------------------------------------------------------------------------------------------------------------------------------------------------------------------------------------------------------------------------------------------------------------------------------------------------------+\n",
      "|tf_idf                                                                                                                                                                                                                                                                                                                                                                                                                                                                                                                                                                                                                                                                                                                                                                                                                                                                                                                                                                                          |\n",
      "+------------------------------------------------------------------------------------------------------------------------------------------------------------------------------------------------------------------------------------------------------------------------------------------------------------------------------------------------------------------------------------------------------------------------------------------------------------------------------------------------------------------------------------------------------------------------------------------------------------------------------------------------------------------------------------------------------------------------------------------------------------------------------------------------------------------------------------------------------------------------------------------------------------------------------------------------------------------------------------------------+\n",
      "|(27680,[2,10,13,15,21,22,26,28,34,39,44,47,72,120,126,127,139,150,181,187,210,253,276,328,343,377,761,939,1001,1080,1240,1457,1820,1840,1979,2504,2745,3364,4079,4172,6832,15129,18007],[1.5719085580954,2.1046550384829157,2.170886134965545,2.2402866705429365,2.729432594693566,2.5330786161469883,2.55169342458922,2.648047990911451,2.6549684337560246,2.695115501769437,2.7419798107456548,2.8018156023563194,3.074419783838929,3.3343222921836344,3.3668077473281226,3.3668077473281226,3.465898649972354,3.530437171109925,3.575899545186682,3.8107391362640834,3.6799689050808886,3.927603476403394,3.9960062032877945,4.059954927888068,4.22358435166987,4.1907945288468795,5.168045960510722,5.034514567886199,5.139875083544025,5.504518197131935,5.32219664033798,5.63235156864182,5.778955042833695,5.83302226410397,5.950805299760354,6.158444664538599,6.238487372212135,6.42080892900609,6.6439524803203,6.93163455277208,7.337099660880245,8.03024684144019,8.03024684144019])|\n",
      "+------------------------------------------------------------------------------------------------------------------------------------------------------------------------------------------------------------------------------------------------------------------------------------------------------------------------------------------------------------------------------------------------------------------------------------------------------------------------------------------------------------------------------------------------------------------------------------------------------------------------------------------------------------------------------------------------------------------------------------------------------------------------------------------------------------------------------------------------------------------------------------------------------------------------------------------------------------------------------------------------+\n",
      "only showing top 1 row\n",
      "\n"
     ]
    }
   ],
   "source": [
    "idf_data.select('tf_idf').show(1,truncate=False)"
   ]
  },
  {
   "cell_type": "markdown",
   "metadata": {},
   "source": [
    "<h4> The final step in the pre-processing is to combine all the feature variables together which is fed to the classification model as an input in the form of a vector </h4>"
   ]
  },
  {
   "cell_type": "code",
   "execution_count": 44,
   "metadata": {},
   "outputs": [],
   "source": [
    "from pyspark.ml.feature import VectorAssembler"
   ]
  },
  {
   "cell_type": "code",
   "execution_count": 45,
   "metadata": {},
   "outputs": [],
   "source": [
    "# create a feature vector that contains the values of tf_idf and length which will be used to predict the review type\n",
    "\n",
    "clean_up = VectorAssembler(inputCols=['tf_idf','length'],outputCol='features')"
   ]
  },
  {
   "cell_type": "code",
   "execution_count": 46,
   "metadata": {},
   "outputs": [],
   "source": [
    "temp_data = clean_up.transform(idf_data)"
   ]
  },
  {
   "cell_type": "code",
   "execution_count": 47,
   "metadata": {},
   "outputs": [
    {
     "name": "stdout",
     "output_type": "stream",
     "text": [
      "root\n",
      " |-- review: string (nullable = true)\n",
      " |-- label: integer (nullable = true)\n",
      " |-- length: integer (nullable = true)\n",
      " |-- tokenized_review: array (nullable = true)\n",
      " |    |-- element: string (containsNull = true)\n",
      " |-- stop_tokens: array (nullable = true)\n",
      " |    |-- element: string (containsNull = true)\n",
      " |-- clean_tokens: array (nullable = true)\n",
      " |    |-- element: string (containsNull = true)\n",
      " |-- c_vec: vector (nullable = true)\n",
      " |-- tf_idf: vector (nullable = true)\n",
      " |-- features: vector (nullable = true)\n",
      "\n"
     ]
    }
   ],
   "source": [
    "temp_data.printSchema()"
   ]
  },
  {
   "cell_type": "markdown",
   "metadata": {},
   "source": [
    "<h4>Select only the 'features' and 'label' columns that are to be fed to the NB model</h4>"
   ]
  },
  {
   "cell_type": "code",
   "execution_count": 48,
   "metadata": {},
   "outputs": [],
   "source": [
    "data = temp_data.select(['features','label'])"
   ]
  },
  {
   "cell_type": "code",
   "execution_count": 49,
   "metadata": {},
   "outputs": [
    {
     "data": {
      "text/plain": [
       "['features', 'label']"
      ]
     },
     "execution_count": 49,
     "metadata": {},
     "output_type": "execute_result"
    }
   ],
   "source": [
    "data.columns"
   ]
  },
  {
   "cell_type": "code",
   "execution_count": 50,
   "metadata": {},
   "outputs": [
    {
     "name": "stdout",
     "output_type": "stream",
     "text": [
      "+--------------------+-----+\n",
      "|            features|label|\n",
      "+--------------------+-----+\n",
      "|(27681,[2,10,13,1...|    1|\n",
      "|(27681,[21,37,52,...|    0|\n",
      "|(27681,[29,41,129...|    1|\n",
      "|(27681,[6,16,41,5...|    1|\n",
      "|(27681,[0,5,7,42,...|    1|\n",
      "|(27681,[1,2,8,20,...|    0|\n",
      "|(27681,[1,2,7,11,...|    1|\n",
      "|(27681,[6,7,10,30...|    1|\n",
      "|(27681,[11,25,31,...|    1|\n",
      "|(27681,[1,7,14,18...|    1|\n",
      "|(27681,[3,6,17,23...|    1|\n",
      "|(27681,[6,17,19,2...|    0|\n",
      "|(27681,[15,79,154...|    1|\n",
      "|(27681,[0,1,2,6,8...|    0|\n",
      "|(27681,[4,6,11,15...|    0|\n",
      "|(27681,[1,3,6,9,1...|    1|\n",
      "|(27681,[0,1,93,94...|    0|\n",
      "|(27681,[12,32,130...|    1|\n",
      "|(27681,[3,8,10,13...|    1|\n",
      "|(27681,[0,1,3,5,6...|    0|\n",
      "+--------------------+-----+\n",
      "only showing top 20 rows\n",
      "\n"
     ]
    }
   ],
   "source": [
    "data.show()"
   ]
  },
  {
   "cell_type": "markdown",
   "metadata": {},
   "source": [
    "<h3> Train - Test Split </h3>"
   ]
  },
  {
   "cell_type": "markdown",
   "metadata": {},
   "source": [
    "<h4>A 70 - 30 split is performed in random on the data to obtain the train and test sets</h4>"
   ]
  },
  {
   "cell_type": "code",
   "execution_count": 51,
   "metadata": {},
   "outputs": [],
   "source": [
    "train, test = data.randomSplit([0.7,0.3],42)"
   ]
  },
  {
   "cell_type": "code",
   "execution_count": 52,
   "metadata": {},
   "outputs": [
    {
     "name": "stdout",
     "output_type": "stream",
     "text": [
      "+--------------------+-----+\n",
      "|            features|label|\n",
      "+--------------------+-----+\n",
      "|(27681,[0,1,2,6,8...|    0|\n",
      "|(27681,[1,2,6,9,2...|    0|\n",
      "|(27681,[1,2,7,11,...|    1|\n",
      "|(27681,[1,2,8,20,...|    0|\n",
      "|(27681,[1,3,6,9,1...|    1|\n",
      "|(27681,[1,7,14,18...|    1|\n",
      "|(27681,[2,3,4,6,3...|    1|\n",
      "|(27681,[2,3,9,11,...|    0|\n",
      "|(27681,[2,10,13,1...|    1|\n",
      "|(27681,[3,6,17,23...|    1|\n",
      "|(27681,[4,6,11,15...|    0|\n",
      "|(27681,[6,7,10,30...|    1|\n",
      "|(27681,[6,16,41,5...|    1|\n",
      "|(27681,[6,17,19,2...|    0|\n",
      "|(27681,[6,21,37,4...|    1|\n",
      "|(27681,[8,152,275...|    1|\n",
      "|(27681,[9,45,83,1...|    1|\n",
      "|(27681,[11,25,31,...|    1|\n",
      "|(27681,[12,32,130...|    1|\n",
      "|(27681,[13,18,41,...|    0|\n",
      "+--------------------+-----+\n",
      "only showing top 20 rows\n",
      "\n"
     ]
    }
   ],
   "source": [
    "train.show()"
   ]
  },
  {
   "cell_type": "markdown",
   "metadata": {},
   "source": [
    "<h3> Build the Naive Bayes classification model </h3>"
   ]
  },
  {
   "cell_type": "code",
   "execution_count": 53,
   "metadata": {},
   "outputs": [],
   "source": [
    "from pyspark.ml.classification import NaiveBayes"
   ]
  },
  {
   "cell_type": "code",
   "execution_count": 54,
   "metadata": {},
   "outputs": [],
   "source": [
    "nb = NaiveBayes()"
   ]
  },
  {
   "cell_type": "markdown",
   "metadata": {},
   "source": [
    "<h4> The Naive Bayes model is built with the default properties and fitted with the training data </h4>"
   ]
  },
  {
   "cell_type": "code",
   "execution_count": 55,
   "metadata": {},
   "outputs": [],
   "source": [
    "nb_model = nb.fit(train)"
   ]
  },
  {
   "cell_type": "markdown",
   "metadata": {},
   "source": [
    "<h4> The test data is passed to the model and the results are captured </h4>"
   ]
  },
  {
   "cell_type": "code",
   "execution_count": 56,
   "metadata": {},
   "outputs": [],
   "source": [
    "prediction_results = nb_model.transform(test)"
   ]
  },
  {
   "cell_type": "code",
   "execution_count": 57,
   "metadata": {
    "scrolled": true
   },
   "outputs": [
    {
     "name": "stdout",
     "output_type": "stream",
     "text": [
      "+-----+----------+\n",
      "|label|prediction|\n",
      "+-----+----------+\n",
      "|    0|       0.0|\n",
      "|    0|       0.0|\n",
      "|    1|       0.0|\n",
      "|    1|       1.0|\n",
      "|    0|       1.0|\n",
      "|    1|       0.0|\n",
      "|    0|       0.0|\n",
      "|    1|       1.0|\n",
      "|    0|       0.0|\n",
      "|    0|       0.0|\n",
      "|    1|       1.0|\n",
      "|    0|       1.0|\n",
      "|    1|       1.0|\n",
      "|    1|       1.0|\n",
      "|    0|       1.0|\n",
      "|    1|       1.0|\n",
      "|    1|       0.0|\n",
      "|    0|       1.0|\n",
      "|    0|       1.0|\n",
      "|    1|       1.0|\n",
      "+-----+----------+\n",
      "only showing top 20 rows\n",
      "\n"
     ]
    }
   ],
   "source": [
    "prediction_results.select('label','prediction').show()"
   ]
  },
  {
   "cell_type": "code",
   "execution_count": 58,
   "metadata": {},
   "outputs": [
    {
     "name": "stdout",
     "output_type": "stream",
     "text": [
      "root\n",
      " |-- features: vector (nullable = true)\n",
      " |-- label: integer (nullable = true)\n",
      " |-- rawPrediction: vector (nullable = true)\n",
      " |-- probability: vector (nullable = true)\n",
      " |-- prediction: double (nullable = false)\n",
      "\n"
     ]
    }
   ],
   "source": [
    "prediction_results.printSchema()"
   ]
  },
  {
   "cell_type": "markdown",
   "metadata": {},
   "source": [
    "<h3> Evaluating the model performance </h3>"
   ]
  },
  {
   "cell_type": "code",
   "execution_count": 59,
   "metadata": {},
   "outputs": [],
   "source": [
    "from pyspark.ml.evaluation import MulticlassClassificationEvaluator,BinaryClassificationEvaluator"
   ]
  },
  {
   "cell_type": "code",
   "execution_count": 60,
   "metadata": {},
   "outputs": [],
   "source": [
    "TP = prediction_results.filter((prediction_results.label == 0) & (prediction_results.prediction == 0.0)).count()\n",
    "TN = prediction_results.filter((prediction_results.label == 1) & (prediction_results.prediction == 1.0)).count()\n",
    "FP = prediction_results.filter((prediction_results.label == 1) & (prediction_results.prediction == 0.0)).count()\n",
    "FN = prediction_results.filter((prediction_results.label == 0) & (prediction_results.prediction == 1.0)).count()"
   ]
  },
  {
   "cell_type": "code",
   "execution_count": 61,
   "metadata": {},
   "outputs": [
    {
     "name": "stdout",
     "output_type": "stream",
     "text": [
      "True Positives:  562\n",
      "False Positives:  418\n",
      "True Negatives:  587\n",
      "False Negatives:  340\n"
     ]
    }
   ],
   "source": [
    "print (\"True Positives: \",TP)\n",
    "print (\"False Positives: \",FP)\n",
    "print (\"True Negatives: \",TN)\n",
    "print (\"False Negatives: \",FN)"
   ]
  },
  {
   "cell_type": "markdown",
   "metadata": {},
   "source": [
    "<h3><i>1. Accuracy:</i></h3>"
   ]
  },
  {
   "cell_type": "code",
   "execution_count": 62,
   "metadata": {},
   "outputs": [],
   "source": [
    "acc_eval = MulticlassClassificationEvaluator(metricName='accuracy')"
   ]
  },
  {
   "cell_type": "code",
   "execution_count": 63,
   "metadata": {},
   "outputs": [],
   "source": [
    "# Calculate the accuracy\n",
    "\n",
    "accuracy = acc_eval.evaluate(prediction_results)"
   ]
  },
  {
   "cell_type": "code",
   "execution_count": 64,
   "metadata": {},
   "outputs": [
    {
     "name": "stdout",
     "output_type": "stream",
     "text": [
      "The Naive Bayes model accuracy for predicting the type of a review is 0.6025170424750917\n"
     ]
    }
   ],
   "source": [
    "print('The Naive Bayes model accuracy for predicting the type of a review is {}'.format(accuracy))"
   ]
  },
  {
   "cell_type": "markdown",
   "metadata": {},
   "source": [
    "<h3><i>2. Precision:</i></h3>"
   ]
  },
  {
   "cell_type": "code",
   "execution_count": 65,
   "metadata": {},
   "outputs": [],
   "source": [
    "# Precision is a measure of the correctness of the predicition by the model\n",
    "\n",
    "precision = TP/(TP+FP)"
   ]
  },
  {
   "cell_type": "code",
   "execution_count": 66,
   "metadata": {},
   "outputs": [
    {
     "name": "stdout",
     "output_type": "stream",
     "text": [
      "Precision of the model is 0.573469387755102\n"
     ]
    }
   ],
   "source": [
    "print (\"Precision of the model is {}\".format(precision))"
   ]
  },
  {
   "cell_type": "markdown",
   "metadata": {},
   "source": [
    "<h3><i>3. Recall/Sensitivity:</i></h3>"
   ]
  },
  {
   "cell_type": "code",
   "execution_count": 67,
   "metadata": {},
   "outputs": [],
   "source": [
    "# Recall is the measure of how correctly the model predicts the truth\n",
    "\n",
    "recall = TP/(TP+FN)"
   ]
  },
  {
   "cell_type": "code",
   "execution_count": 68,
   "metadata": {},
   "outputs": [
    {
     "name": "stdout",
     "output_type": "stream",
     "text": [
      "Recall/Sensitivity of the model is 0.623059866962306\n"
     ]
    }
   ],
   "source": [
    "print (\"Recall/Sensitivity of the model is {}\".format(recall))"
   ]
  },
  {
   "cell_type": "markdown",
   "metadata": {},
   "source": [
    "<h3><i>4. Specificity:</i></h3>"
   ]
  },
  {
   "cell_type": "code",
   "execution_count": 69,
   "metadata": {},
   "outputs": [],
   "source": [
    "# Specificity is the measure of how correctly the model predicts the non-truth\n",
    "\n",
    "specificity = TN/(TN+FP)"
   ]
  },
  {
   "cell_type": "code",
   "execution_count": 70,
   "metadata": {},
   "outputs": [
    {
     "name": "stdout",
     "output_type": "stream",
     "text": [
      "Specificity of the model is 0.5840796019900497\n"
     ]
    }
   ],
   "source": [
    "print (\"Specificity of the model is {}\".format(specificity))"
   ]
  },
  {
   "cell_type": "markdown",
   "metadata": {},
   "source": [
    "<h3><i>5. Area under ROC:</i></h3>"
   ]
  },
  {
   "cell_type": "code",
   "execution_count": 71,
   "metadata": {},
   "outputs": [],
   "source": [
    "ROC_eval = BinaryClassificationEvaluator(metricName='areaUnderROC')"
   ]
  },
  {
   "cell_type": "code",
   "execution_count": 72,
   "metadata": {},
   "outputs": [],
   "source": [
    "# Calculate the area under the Receiver Operating Characteristic curve\n",
    "\n",
    "ROC = ROC_eval.evaluate(prediction_results)"
   ]
  },
  {
   "cell_type": "code",
   "execution_count": 73,
   "metadata": {},
   "outputs": [
    {
     "name": "stdout",
     "output_type": "stream",
     "text": [
      "Area under ROC is 0.5364309274028969\n"
     ]
    }
   ],
   "source": [
    "print('Area under ROC is {}'.format(ROC))"
   ]
  },
  {
   "cell_type": "markdown",
   "metadata": {},
   "source": [
    "<h3><i>6. Area under PR:</i></h3>"
   ]
  },
  {
   "cell_type": "code",
   "execution_count": 74,
   "metadata": {},
   "outputs": [],
   "source": [
    "PR_eval = BinaryClassificationEvaluator(metricName='areaUnderPR')"
   ]
  },
  {
   "cell_type": "code",
   "execution_count": 75,
   "metadata": {},
   "outputs": [],
   "source": [
    "# Calculate the area under the Precision-Recall curve\n",
    "\n",
    "PR = PR_eval.evaluate(prediction_results)"
   ]
  },
  {
   "cell_type": "code",
   "execution_count": 76,
   "metadata": {},
   "outputs": [
    {
     "name": "stdout",
     "output_type": "stream",
     "text": [
      "Area under PR is 0.5647113298152389\n"
     ]
    }
   ],
   "source": [
    "print('Area under PR is {}'.format(PR))"
   ]
  },
  {
   "cell_type": "markdown",
   "metadata": {},
   "source": [
    "<h2><b><i>VISUALIZATIONS:</h2></b></i>"
   ]
  },
  {
   "cell_type": "markdown",
   "metadata": {},
   "source": [
    "<h3> Confusion Matrix Heatmap </h3>"
   ]
  },
  {
   "cell_type": "code",
   "execution_count": 77,
   "metadata": {},
   "outputs": [],
   "source": [
    "import seaborn as sn\n",
    "import matplotlib.pyplot as plt"
   ]
  },
  {
   "cell_type": "code",
   "execution_count": 78,
   "metadata": {},
   "outputs": [
    {
     "data": {
      "image/png": "[encoded data removed]",
      "text/plain": [
       "<Figure size 576x432 with 2 Axes>"
      ]
     },
     "metadata": {
      "needs_background": "light"
     },
     "output_type": "display_data"
    }
   ],
   "source": [
    "cm_array = [[TP/(TP+FN),FN/(TP+FN)],\n",
    "            [FP/(FP+TN),TN/(FP+TN)]]        \n",
    "df_cm = pd.DataFrame(cm_array, (0,1),(0,1))\n",
    "plt.figure(figsize = (8,6))\n",
    "sn.set(font_scale=1.5)#for label size\n",
    "sn.heatmap(df_cm, cmap='GnBu',annot=True,annot_kws={\"size\": 16})# font size\n",
    "plt.title('Confusion Matrix')\n",
    "plt.show()"
   ]
  },
  {
   "cell_type": "markdown",
   "metadata": {},
   "source": [
    "<h3>Plotting ROC and P-R Curves</h3>"
   ]
  },
  {
   "cell_type": "code",
   "execution_count": 79,
   "metadata": {},
   "outputs": [],
   "source": [
    "import handyspark"
   ]
  },
  {
   "cell_type": "code",
   "execution_count": 80,
   "metadata": {},
   "outputs": [],
   "source": [
    "bcm = handyspark.BinaryClassificationMetrics(prediction_results, scoreCol='probability',labelCol='label',)"
   ]
  },
  {
   "cell_type": "code",
   "execution_count": 81,
   "metadata": {},
   "outputs": [
    {
     "data": {
      "text/plain": [
       "<matplotlib.axes._subplots.AxesSubplot at 0x1ef7faf4d30>"
      ]
     },
     "execution_count": 81,
     "metadata": {},
     "output_type": "execute_result"
    },
    {
     "data": {
      "image/png": "[encoded data removed]",
      "text/plain": [
       "<Figure size 432x288 with 1 Axes>"
      ]
     },
     "metadata": {},
     "output_type": "display_data"
    }
   ],
   "source": [
    "bcm.plot_roc_curve()"
   ]
  },
  {
   "cell_type": "code",
   "execution_count": 82,
   "metadata": {},
   "outputs": [
    {
     "data": {
      "text/plain": [
       "<matplotlib.axes._subplots.AxesSubplot at 0x1ef7fb62128>"
      ]
     },
     "execution_count": 82,
     "metadata": {},
     "output_type": "execute_result"
    },
    {
     "data": {
      "image/png": "[encoded data removed]",
      "text/plain": [
       "<Figure size 432x288 with 1 Axes>"
      ]
     },
     "metadata": {},
     "output_type": "display_data"
    }
   ],
   "source": [
    "bcm.plot_pr_curve()"
   ]
  },
  {
   "cell_type": "code",
   "execution_count": null,
   "metadata": {},
   "outputs": [],
   "source": [
    "spark.stop()"
   ]
  },
  {
   "cell_type": "markdown",
   "metadata": {},
   "source": [
    "<h2>Evaluation results:</h2>"
   ]
  },
  {
   "cell_type": "markdown",
   "metadata": {},
   "source": [
    "<li style=\"font-size:18px\">The model accuracy is 60% which is reasonably good considering the usage of internet slang while writing the review for a product</li><br><li style=\"font-size:18px\">The ROC curve being closer to the leading diagonal in the plot denotes that the model fares just better than a random classifier</li><br><li style=\"font-size:18px\">This model can perform better with more amount of training data</li><br><li style=\"font-size:18px\">Applying other NLP techniques like stemming might improve the model performance further</li>"
   ]
  }
 ],
 "metadata": {
  "kernelspec": {
   "display_name": "Python 3",
   "language": "python",
   "name": "python3"
  },
  "language_info": {
   "codemirror_mode": {
    "name": "ipython",
    "version": 3
   },
   "file_extension": ".py",
   "mimetype": "text/x-python",
   "name": "python",
   "nbconvert_exporter": "python",
   "pygments_lexer": "ipython3",
   "version": "3.7.2"
  }
 },
 "nbformat": 4,
 "nbformat_minor": 2
}
